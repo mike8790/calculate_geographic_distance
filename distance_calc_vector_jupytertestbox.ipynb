{
 "cells": [
  {
   "cell_type": "code",
   "execution_count": 171,
   "metadata": {},
   "outputs": [],
   "source": [
    "import numpy as np \n",
    "import pandas as pd\n",
    "from scipy.spatial.distance import squareform, pdist\n",
    "from haversine import haversine\n",
    "\n",
    "datum = pd.read_csv('tester_csv.csv')\n",
    "\n",
    "data = datum[['latitude','longitude']].to_numpy()\n",
    "hotels = datum['hotel_id'].to_numpy()\n",
    "\n",
    "dm = squareform(pdist(data, metric=haversine))\n",
    "np.fill_diagonal(dm, 100000)\n",
    "\n",
    "k = 10\n",
    "indices = np.argpartition(dm, k)[:, :k].T\n",
    "\n",
    "hotel_orders = []\n",
    "distances_orders = []\n",
    "\n",
    "for n in range(indices.shape[1]):\n",
    "    Y = dm[indices[:, n], n]\n",
    "    X = hotels[indices[:, n]]\n",
    "    distances_orders.append([x for _,x in sorted(zip(X, Y), key = lambda x: x[1])])\n",
    "    hotel_orders.append([x for x,_ in sorted(zip(X, Y), key = lambda x: x[1])])\n",
    "\n",
    "df = pd.DataFrame()\n",
    "df['Hotels'] = datum['hotel_id']\n",
    "df['closest_hotels'] = hotel_orders\n",
    "df['distances'] = distances_orders\n",
    "df.set_index('Hotels', inplace=True)\n"
   ]
  }
 ],
 "metadata": {
  "kernelspec": {
   "display_name": "Python 3.10.5 64-bit",
   "language": "python",
   "name": "python3"
  },
  "language_info": {
   "codemirror_mode": {
    "name": "ipython",
    "version": 3
   },
   "file_extension": ".py",
   "mimetype": "text/x-python",
   "name": "python",
   "nbconvert_exporter": "python",
   "pygments_lexer": "ipython3",
   "version": "3.10.5"
  },
  "orig_nbformat": 4,
  "vscode": {
   "interpreter": {
    "hash": "b239acf2821489c398a9848859e84ce39b99d30cc4031fb37cc7461da3883639"
   }
  }
 },
 "nbformat": 4,
 "nbformat_minor": 2
}
